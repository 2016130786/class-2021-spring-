{
  "nbformat": 4,
  "nbformat_minor": 0,
  "metadata": {
    "colab": {
      "name": "Untitled2.ipynb",
      "provenance": [],
      "authorship_tag": "ABX9TyN7Tdf7QCfo+IcsbpdSc6bb",
      "include_colab_link": true
    },
    "kernelspec": {
      "name": "python3",
      "display_name": "Python 3"
    },
    "language_info": {
      "name": "python"
    }
  },
  "cells": [
    {
      "cell_type": "markdown",
      "metadata": {
        "id": "view-in-github",
        "colab_type": "text"
      },
      "source": [
        "<a href=\"https://colab.research.google.com/github/2016130786/class-2021-spring-/blob/main/20210331.ipynb\" target=\"_parent\"><img src=\"https://colab.research.google.com/assets/colab-badge.svg\" alt=\"Open In Colab\"/></a>"
      ]
    },
    {
      "cell_type": "markdown",
      "metadata": {
        "id": "qv1bLFhB5Any"
      },
      "source": [
        "a pitch = 126.6 Hz\n",
        "\n",
        "\n",
        "a intensity = 74.94 dB\n",
        " \n",
        " \n",
        "a formant = 734 Hz, 1235 Hz\n",
        " \n",
        "a duration = 0.510208"
      ]
    },
    {
      "cell_type": "markdown",
      "metadata": {
        "id": "y5_475Xv5S3F"
      },
      "source": [
        "ae pitch = 123.5 Hz\n",
        "\n",
        "\n",
        "ae intensity = 71.54 dB\n",
        "\n",
        "ae formant = 574.9 Hz, 1691 Hz\n",
        "\n",
        "ae duration = 0.530348"
      ]
    }
  ]
}