{
  "nbformat": 4,
  "nbformat_minor": 0,
  "metadata": {
    "colab": {
      "name": "Untitled0.ipynb",
      "provenance": [],
      "authorship_tag": "ABX9TyPSwXCkJX2NU6MSSw/b/lik",
      "include_colab_link": true
    },
    "kernelspec": {
      "name": "python3",
      "display_name": "Python 3"
    }
  },
  "cells": [
    {
      "cell_type": "markdown",
      "metadata": {
        "id": "view-in-github",
        "colab_type": "text"
      },
      "source": [
        "<a href=\"https://colab.research.google.com/github/2016130786/class-2021-spring-/blob/main/syntax(%ED%95%84%EA%B8%B0%EB%B3%B8).ipynb\" target=\"_parent\"><img src=\"https://colab.research.google.com/assets/colab-badge.svg\" alt=\"Open In Colab\"/></a>"
      ]
    },
    {
      "cell_type": "code",
      "metadata": {
        "id": "9mgfJkJrxqlM"
      },
      "source": [
        ""
      ],
      "execution_count": null,
      "outputs": []
    },
    {
      "cell_type": "code",
      "metadata": {
        "id": "Fu2mzgrqSLAU",
        "outputId": "283876b5-0fc9-4961-d92d-d242b3c222de"
      },
      "source": [
        "a = [1, 2, 3, 4]\n",
        "for i in a:\n",
        "    print(i)"
      ],
      "execution_count": null,
      "outputs": [
        {
          "output_type": "stream",
          "text": [
            "1\n",
            "2\n",
            "3\n",
            "4\n"
          ],
          "name": "stdout"
        }
      ]
    },
    {
      "cell_type": "code",
      "metadata": {
        "id": "KLuNZBb1e8QD",
        "colab": {
          "base_uri": "https://localhost:8080/"
        },
        "outputId": "e9dae78c-f818-4065-b2c1-16cfc81e8de8"
      },
      "source": [
        "for i in range(3):\r\n",
        "  print(i)"
      ],
      "execution_count": null,
      "outputs": [
        {
          "output_type": "stream",
          "text": [
            "0\n",
            "1\n",
            "2\n"
          ],
          "name": "stdout"
        }
      ]
    },
    {
      "cell_type": "code",
      "metadata": {
        "id": "IF3qkuP_on4J",
        "outputId": "0e4fbcbc-90df-445d-b1b5-3227d9e5d327",
        "colab": {
          "base_uri": "https://localhost:8080/"
        }
      },
      "source": [
        "a = [1,2,3,4,5,6,74,8,9,10]\r\n",
        "for i in range(0,10,3):\r\n",
        "  print(a[i])"
      ],
      "execution_count": 2,
      "outputs": [
        {
          "output_type": "stream",
          "text": [
            "1\n",
            "4\n",
            "74\n",
            "10\n"
          ],
          "name": "stdout"
        }
      ]
    },
    {
      "cell_type": "markdown",
      "metadata": {
        "id": "BeJaPQZio7aX"
      },
      "source": [
        "range(0,10,3) 은 0번째부터 10번째 직전순까지 3칸씩 띄어라"
      ]
    },
    {
      "cell_type": "markdown",
      "metadata": {
        "id": "pvI6VTNrehLL"
      },
      "source": [
        "for ~ in ~ : \r\n"
      ]
    },
    {
      "cell_type": "markdown",
      "metadata": {
        "id": "ZstKhZITfMbj"
      },
      "source": [
        "print(~)\r\n",
        "for는 반드시 위의 형태를 지켜라."
      ]
    },
    {
      "cell_type": "code",
      "metadata": {
        "id": "XSJxLJVCSLAW",
        "outputId": "921b10b7-3bc8-4345-a6b2-16253a900c95"
      },
      "source": [
        "a = [1, 2, 3, 4]\n",
        "for i in range(len(a)):\n",
        "    print(a[i])"
      ],
      "execution_count": null,
      "outputs": [
        {
          "output_type": "stream",
          "text": [
            "1\n",
            "2\n",
            "3\n",
            "4\n"
          ],
          "name": "stdout"
        }
      ]
    },
    {
      "cell_type": "markdown",
      "metadata": {
        "id": "eRIZWq5sfcic"
      },
      "source": [
        "a의 길이는 4. range(4)는 0123 숫자4개를 만듬. print(a[i])는 a의 0번째 1번째 2번째 3번째를 반복한다. "
      ]
    },
    {
      "cell_type": "code",
      "metadata": {
        "id": "VTfxVRdgSLAW",
        "outputId": "7b430ba8-015e-4296-c883-ce2b3f9ed43b"
      },
      "source": [
        "a = ['red', 'green', 'blue', 'purple']\n",
        "for i in a:\n",
        "    print(i)"
      ],
      "execution_count": null,
      "outputs": [
        {
          "output_type": "stream",
          "text": [
            "red\n",
            "green\n",
            "blue\n",
            "purple\n"
          ],
          "name": "stdout"
        }
      ]
    },
    {
      "cell_type": "code",
      "metadata": {
        "id": "Vc-7pW85SLAW",
        "outputId": "9394e177-c8c8-44db-ff28-1e9566072bb3"
      },
      "source": [
        "a = ['red', 'green', 'blue', 'purple']\n",
        "for i in range(len(a)):\n",
        "    print(a[i])"
      ],
      "execution_count": null,
      "outputs": [
        {
          "output_type": "stream",
          "text": [
            "red\n",
            "green\n",
            "blue\n",
            "purple\n"
          ],
          "name": "stdout"
        }
      ]
    },
    {
      "cell_type": "code",
      "metadata": {
        "id": "XOdMzcWsSLAX",
        "outputId": "c9c342e6-cdd1-4e53-cdac-6aa00cfd0892"
      },
      "source": [
        "a = [\"red\", \"green\", \"blue\", \"purple\"]\n",
        "b = [0.2, 0.3, 0.1, 0.4]\n",
        "for i, a_ in enumerate(a):\n",
        "    print(\"{}: {}%\".format(a_, b[i]*100))"
      ],
      "execution_count": null,
      "outputs": [
        {
          "output_type": "stream",
          "text": [
            "red: 20.0%\n",
            "green: 30.0%\n",
            "blue: 10.0%\n",
            "purple: 40.0%\n"
          ],
          "name": "stdout"
        }
      ]
    },
    {
      "cell_type": "markdown",
      "metadata": {
        "id": "M04DWpZppU-G"
      },
      "source": [
        "**skip**"
      ]
    },
    {
      "cell_type": "code",
      "metadata": {
        "id": "Ej_gWa3oSLAX",
        "outputId": "1de011cd-c635-4565-d51a-aa3a8dec287c"
      },
      "source": [
        "a = [\"red\", \"green\", \"blue\", \"purple\"]\n",
        "b = [0.2, 0.3, 0.1, 0.4]\n",
        "for a_, b_ in zip(a, b):\n",
        "    print(\"{}: {}%\".format(a_, b_*100))\n"
      ],
      "execution_count": null,
      "outputs": [
        {
          "output_type": "stream",
          "text": [
            "red: 20.0%\n",
            "green: 30.0%\n",
            "blue: 10.0%\n",
            "purple: 40.0%\n"
          ],
          "name": "stdout"
        }
      ]
    },
    {
      "cell_type": "markdown",
      "metadata": {
        "id": "ckG_OKmxpWWd"
      },
      "source": [
        "skip"
      ]
    },
    {
      "cell_type": "code",
      "metadata": {
        "id": "dD-ephD3SLAX",
        "outputId": "cdcb30b1-f699-4143-9609-d593832d1a6d",
        "colab": {
          "base_uri": "https://localhost:8080/"
        }
      },
      "source": [
        "a = 0\n",
        "if a == 0:\n",
        "    print(a)\n",
        "else:\n",
        "    print(a+1)"
      ],
      "execution_count": 4,
      "outputs": [
        {
          "output_type": "stream",
          "text": [
            "0\n"
          ],
          "name": "stdout"
        }
      ]
    },
    {
      "cell_type": "markdown",
      "metadata": {
        "id": "U3XZJ6zop9WQ"
      },
      "source": [
        "a = 0 \r\n",
        "\r\n",
        "if a == 0: (만약 a가 0이면 프린트하라)\r\n",
        "\r\n",
        "print(a)\r\n",
        "\r\n",
        "else:\r\n",
        "print(a+1)\r\n",
        "\r\n",
        "만약 a가 0이 아니라면 1을 더해라"
      ]
    },
    {
      "cell_type": "code",
      "metadata": {
        "id": "M0AZaDMvSLAY",
        "outputId": "b25a5fe6-defa-4549-85b0-0c146ff7a2a0"
      },
      "source": [
        "for i in range(1, 3):\n",
        "    for j in range(3, 5):\n",
        "        print(i*j)"
      ],
      "execution_count": null,
      "outputs": [
        {
          "output_type": "stream",
          "text": [
            "3\n",
            "4\n",
            "6\n",
            "8\n"
          ],
          "name": "stdout"
        }
      ]
    },
    {
      "cell_type": "markdown",
      "metadata": {
        "id": "26hx6Hg0rRSQ"
      },
      "source": [
        "안쪽 루트 j루트의 변수는 3과 5직전 4\r\n",
        "\r\n",
        "바깥쪽 루트 i루트의 변수는 1과 3직전 2\r\n",
        "\r\n",
        "3x1, 4x1, 3x2, 4x2 의 순환"
      ]
    },
    {
      "cell_type": "code",
      "metadata": {
        "id": "ZPpZmVIHSLAY",
        "outputId": "d248b96d-5b18-44fc-dffd-4b6880881ae9",
        "colab": {
          "base_uri": "https://localhost:8080/"
        }
      },
      "source": [
        "for i in range(1, 3):\n",
        "    for j in range(3, 5):\n",
        "        if j >=4:\n",
        "            print(i*j)"
      ],
      "execution_count": 6,
      "outputs": [
        {
          "output_type": "stream",
          "text": [
            "4\n",
            "8\n"
          ],
          "name": "stdout"
        }
      ]
    },
    {
      "cell_type": "markdown",
      "metadata": {
        "id": "9vCtN1P7rvdn"
      },
      "source": [
        "출제가능! \r\n",
        "\r\n",
        "j변수는 3과 4 \r\n",
        "\r\n",
        "i변수는 1과 2\r\n",
        "\r\n",
        "3, 4, 6, 8 \r\n",
        "\r\n",
        "중간에 if j >= 4:\r\n",
        "\r\n",
        "조건문이 들어가 있으므로 4이상의 변수만 순환시켜라"
      ]
    },
    {
      "cell_type": "code",
      "metadata": {
        "id": "JQXk5vi0SLAY",
        "outputId": "cd3306f3-6d6d-446e-dd4a-f7f4e11dd967"
      },
      "source": [
        "a = [1, 2, 3, 4]\n",
        "b = [i for i in a if i >=2]\n",
        "b"
      ],
      "execution_count": null,
      "outputs": [
        {
          "output_type": "execute_result",
          "data": {
            "text/plain": [
              "[2, 3, 4]"
            ]
          },
          "metadata": {
            "tags": []
          },
          "execution_count": 12
        }
      ]
    },
    {
      "cell_type": "markdown",
      "metadata": {
        "id": "9MZBt2CVsvQn"
      },
      "source": [
        "for i in a if i == 2\r\n",
        "\r\n",
        "1이 i로 삽입 되는 순간 1은 2보다 작아서 산출이 안됨\r\n",
        "\r\n",
        "#>=는 이상을 의미"
      ]
    },
    {
      "cell_type": "code",
      "metadata": {
        "id": "MDmBGZ3LSLAZ",
        "outputId": "bd06f885-7334-43d9-d92d-848c615f6771"
      },
      "source": [
        "a = ['red', 'green', 'blue', 'purple']\n",
        "b = [i for i in a if len(i) >=4]\n",
        "b"
      ],
      "execution_count": null,
      "outputs": [
        {
          "output_type": "execute_result",
          "data": {
            "text/plain": [
              "['green', 'blue', 'purple']"
            ]
          },
          "metadata": {
            "tags": []
          },
          "execution_count": 13
        }
      ]
    },
    {
      "cell_type": "markdown",
      "metadata": {
        "id": "L6WzwiX5twui"
      },
      "source": [
        "len(i)는 글자의 길이를 의미"
      ]
    }
  ]
}