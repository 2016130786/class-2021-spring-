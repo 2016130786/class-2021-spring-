{
  "nbformat": 4,
  "nbformat_minor": 0,
  "metadata": {
    "colab": {
      "name": "Untitled1.ipynb",
      "provenance": [],
      "authorship_tag": "ABX9TyNIkHWpO+L0iVMPDVylWp5T",
      "include_colab_link": true
    },
    "kernelspec": {
      "name": "python3",
      "display_name": "Python 3"
    }
  },
  "cells": [
    {
      "cell_type": "markdown",
      "metadata": {
        "id": "view-in-github",
        "colab_type": "text"
      },
      "source": [
        "<a href=\"https://colab.research.google.com/github/2016130786/class-2021-spring-/blob/main/20210317.ipynb\" target=\"_parent\"><img src=\"https://colab.research.google.com/assets/colab-badge.svg\" alt=\"Open In Colab\"/></a>"
      ]
    },
    {
      "cell_type": "code",
      "metadata": {
        "colab": {
          "base_uri": "https://localhost:8080/"
        },
        "id": "VPnrzp7ouWIp",
        "outputId": "cba85fd5-31e2-4812-e0bf-c39842ddf399"
      },
      "source": [
        "a = [1,2,3,4,]\r\n",
        "b = [10,20,30,40]\r\n",
        "for i in a:\r\n",
        "  for j in b:\r\n",
        "    if j >=20:\r\n",
        "      print(i*j)"
      ],
      "execution_count": 2,
      "outputs": [
        {
          "output_type": "stream",
          "text": [
            "20\n",
            "30\n",
            "40\n",
            "40\n",
            "60\n",
            "80\n",
            "60\n",
            "90\n",
            "120\n",
            "80\n",
            "120\n",
            "160\n"
          ],
          "name": "stdout"
        }
      ]
    },
    {
      "cell_type": "code",
      "metadata": {
        "colab": {
          "base_uri": "https://localhost:8080/"
        },
        "id": "yH7nXtuvvUfi",
        "outputId": "3e3bc01f-f250-4e29-91e3-482509e13a2f"
      },
      "source": [
        "a = [100,105.2,200,500,800]\r\n",
        "b = [i for i in a if i <=240 ]\r\n",
        "b"
      ],
      "execution_count": 4,
      "outputs": [
        {
          "output_type": "execute_result",
          "data": {
            "text/plain": [
              "[100, 105.2, 200]"
            ]
          },
          "metadata": {
            "tags": []
          },
          "execution_count": 4
        }
      ]
    }
  ]
}